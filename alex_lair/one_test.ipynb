{
 "cells": [
  {
   "cell_type": "code",
   "execution_count": 210,
   "metadata": {},
   "outputs": [],
   "source": [
    "import numpy as np\n",
    "import sympy as sym\n",
    "import pandas as pd\n",
    "from IPython.display import display, Math\n",
    "from typing import Iterable, List, Dict, Tuple, Union, Optional\n",
    "import math\n",
    "sym.init_printing()"
   ]
  },
  {
   "cell_type": "code",
   "execution_count": 211,
   "metadata": {},
   "outputs": [],
   "source": [
    "def euclidian_distance2(feature_set_data: Iterable[Union[int, float]], feature_set_prediction: Iterable[Union[int, float]]) -> float:\n",
    "    \"\"\"\n",
    "    param feature_set_data: should contain an iterable datatype with the features a point in the training data has.\n",
    "    param feature_set_prediction: should contain an iterable datatype with the features point from which we want to predict the class.\n",
    "    It doesn't really mattter if you swap the two tho.\n",
    "    \"\"\"\n",
    "\n",
    "    # set up some basic thingies\n",
    "    distance: float = 0\n",
    "\n",
    "    # put the different values for the same feature together in a tuple. Then store those tuples in a list\n",
    "    zipped = list(zip(feature_set_data, feature_set_prediction))\n",
    "\n",
    "    # here we add the squared difference between the features\n",
    "    for feature in zipped[:-1]:\n",
    "        distance+= (float(feature[0])-feature[1])**2\n",
    "    \n",
    "    #return the square root of this difference\n",
    "    return math.sqrt(distance)\n",
    "\n",
    "def get_closest_points(sorted_distances: Iterable[float], k: int,  distance_data: Dict[float, List[Union[int, float]]]) -> List[Iterable[Union[int, float]]]:\n",
    "    \"\"\"Filters out k closest neighbors\"\"\"\n",
    "\n",
    "    print(f\"k -> {k}. \\nsorted_distances -> {sorted_distances}\\ndistance_data -> {distance_data}\")\n",
    "\n",
    "    # get the lowest distance\n",
    "    # get the neighbors from the lowest distance\n",
    "    print(f\" closest neighbors: {distance_data[sorted_distances[0]]}\")\n"
   ]
  },
  {
   "cell_type": "code",
   "execution_count": 212,
   "metadata": {},
   "outputs": [
    {
     "name": "stdout",
     "output_type": "stream",
     "text": [
      "[(1, 3), (2, 4)]\n",
      "(1, 3)\n",
      "(2, 4)\n"
     ]
    }
   ],
   "source": [
    "test1 = [1,2]\n",
    "test= [3,4]\n",
    "x= list(zip(test1, test))\n",
    "print(x)\n",
    "\n",
    "for z in x:\n",
    "    print(z)"
   ]
  },
  {
   "cell_type": "code",
   "execution_count": 213,
   "metadata": {},
   "outputs": [],
   "source": [
    "class KNN_classifier:\n",
    "    def __init__(self, k: int = 5):\n",
    "        \"\"\"Sets up the KNN classifier. \n",
    "        It requires the user to select a value for k, or go with the default value of 5.\"\"\"\n",
    "        self.k = 5\n",
    "        self.data = None\n",
    "\n",
    "    def feed_data(self, data: np.ndarray) -> None:\n",
    "        \"\"\"Takes in a iterable which contains nested interables.\n",
    "        Each nested iterable stands for a row/instance in the dataset.\n",
    "        And each (numerical) value stands for the value of a feature for that given instance.\n",
    "        This method requires you to insert the data as a numpy array.\n",
    "\n",
    "        !! THE LAST COLUMN MUST BE THE LABEL SET !!\n",
    "        \"\"\"\n",
    "\n",
    "        self.data = data\n",
    "        return None\n",
    "\n",
    "    def add_row(self, row: np.ndarray) -> None:\n",
    "        \"\"\"allows user to add another row of data\"\"\"\n",
    "        if not self.data:\n",
    "            self.data=np.array(row)\n",
    "        else:\n",
    "            self.data.vstack(row)\n",
    "\n",
    "        return None\n",
    "    \n",
    "    def predict(self, pred_point: Iterable[Union[int, float]]) -> str:\n",
    "        \"\"\"Here the class uses the KNN algorithm to predict whether class a particular point belongs to\"\"\"\n",
    "\n",
    "        distance_point_dict: Dict[float, List[float, int, str]] = {}\n",
    "\n",
    "        # here we go over each instance in the dataset \n",
    "        for instance in self.data:\n",
    "\n",
    "            # and calculate the distance\n",
    "            distance = euclidian_distance2(feature_set_data=instance, feature_set_prediction=pred_point)\n",
    "\n",
    "            # here we save the distance in a list (this is to avoid one distance being overwritted by another point if it has the exact same distance)\n",
    "            if distance not in distance_point_dict:\n",
    "                distance_point_dict[distance] = [distance_point_dict]\n",
    "            else:\n",
    "                distance_point_dict[distance].extend(distance)\n",
    "\n",
    "        # now we filter out points k points with the lowest euclidian distance to the point from which we want to predict the class\n",
    "        distances = list(distance_point_dict.keys())\n",
    "        distances = sorted(distances, reverse = False)\n",
    "        closest_points: List[Iterable[Union[int, float, str]]] = get_closest_points(sorted_distances=distances, k = self.k, distance_data=distance_point_dict)\n",
    "\n",
    "        # now we count the amount of neighbors each class has\n",
    "        class_proportion_dict: Dict[Iterable[Union[float, int, str]], float] = {}\n",
    "        print(f\"closest points: {closest_points}\")\n",
    "        for neighbor in closest_points:\n",
    "            if neighbor[-1] not in class_proportion_dict:\n",
    "                class_proportion_dict[neighbor[-1]] = 1.0\n",
    "            else:\n",
    "                class_proportion_dict[neighbor[-1]] += 1\n",
    "\n",
    "        # and we end with returning the class which has the highest tally\n",
    "        highest_tally: int = 0\n",
    "        highest_class: str = None\n",
    "\n",
    "        for c in class_proportion_dict:\n",
    "            if class_proportion_dict[c] > highest_tally:\n",
    "                highest_tally = class_proportion_dict[c]\n",
    "                highest_class = c\n",
    "            \n",
    "            else:\n",
    "                continue\n",
    "        \n",
    "        return highest_class"
   ]
  },
  {
   "cell_type": "code",
   "execution_count": 214,
   "metadata": {},
   "outputs": [
    {
     "data": {
      "text/latex": [
       "$\\displaystyle \\left[\\begin{matrix}1 & 2\\\\3 & 4\\end{matrix}\\right]$"
      ],
      "text/plain": [
       "⎡1  2⎤\n",
       "⎢    ⎥\n",
       "⎣3  4⎦"
      ]
     },
     "metadata": {},
     "output_type": "display_data"
    },
    {
     "data": {
      "text/latex": [
       "$\\displaystyle \\left[\\begin{matrix}1 & 2\\\\3 & 4\\\\5 & 6\\end{matrix}\\right]$"
      ],
      "text/plain": [
       "⎡1  2⎤\n",
       "⎢    ⎥\n",
       "⎢3  4⎥\n",
       "⎢    ⎥\n",
       "⎣5  6⎦"
      ]
     },
     "metadata": {},
     "output_type": "display_data"
    },
    {
     "name": "stdout",
     "output_type": "stream",
     "text": [
      "[[0.e+000 5.e-324 1.e-323]]\n"
     ]
    },
    {
     "data": {
      "text/latex": [
       "$\\displaystyle \\left[\\begin{matrix}0.0 & 5.0 \\cdot 10^{-324} & 1.0 \\cdot 10^{-323}\\\\1.0 & 2.0 & 3.0\\end{matrix}\\right]$"
      ],
      "text/plain": [
       "⎡ 0   5.0e-324  1.0e-323⎤\n",
       "⎢                       ⎥\n",
       "⎣1.0    2.0       3.0   ⎦"
      ]
     },
     "metadata": {},
     "output_type": "display_data"
    },
    {
     "name": "stdout",
     "output_type": "stream",
     "text": [
      "(3, 2)\n",
      "3\n"
     ]
    },
    {
     "data": {
      "text/latex": [
       "$\\displaystyle \\left[\\begin{matrix}1 & 2\\end{matrix}\\right]$"
      ],
      "text/plain": [
       "[1  2]"
      ]
     },
     "metadata": {},
     "output_type": "display_data"
    },
    {
     "data": {
      "text/latex": [
       "$\\displaystyle \\left[\\begin{matrix}3 & 4\\end{matrix}\\right]$"
      ],
      "text/plain": [
       "[3  4]"
      ]
     },
     "metadata": {},
     "output_type": "display_data"
    },
    {
     "data": {
      "text/latex": [
       "$\\displaystyle \\left[\\begin{matrix}5 & 6\\end{matrix}\\right]$"
      ],
      "text/plain": [
       "[5  6]"
      ]
     },
     "metadata": {},
     "output_type": "display_data"
    }
   ],
   "source": [
    "def show(thing) -> None:\n",
    "    display(sym.sympify(thing))\n",
    "\n",
    "## TESTING ENVIRONMENT\n",
    "m = np.array([[1,2],[3,4]])\n",
    "\n",
    "show(m)\n",
    "\n",
    "m = np.vstack((m, [5,6]))\n",
    "show(m)\n",
    "\n",
    "\n",
    "print(np.empty((1,3)))\n",
    "\n",
    "empty = np.empty((1,3))\n",
    "show(np.vstack((empty, [1,2,3])))\n",
    "\n",
    "print(m.shape)\n",
    "\n",
    "print(len(m))\n",
    "\n",
    "for x in m:\n",
    "    show(x)"
   ]
  },
  {
   "cell_type": "code",
   "execution_count": 215,
   "metadata": {},
   "outputs": [
    {
     "data": {
      "image/png": "[encoded data removed]",
      "text/plain": [
       "<Figure size 640x480 with 1 Axes>"
      ]
     },
     "metadata": {},
     "output_type": "display_data"
    },
    {
     "name": "stdout",
     "output_type": "stream",
     "text": [
      "Generated 2D points:\n",
      "[[0.46475127 0.58401605]\n",
      " [0.11029634 0.70731452]\n",
      " [0.40478794 0.41752922]\n",
      " [0.19965342 0.45409983]\n",
      " [0.93515136 0.44394343]\n",
      " [0.32051878 0.774205  ]\n",
      " [0.90418124 0.90847913]\n",
      " [0.02759711 0.19562249]\n",
      " [0.59409916 0.03650572]\n",
      " [0.51821791 0.08196229]]\n"
     ]
    },
    {
     "data": {
      "image/png": "[encoded data removed]",
      "text/plain": [
       "<Figure size 640x480 with 1 Axes>"
      ]
     },
     "metadata": {},
     "output_type": "display_data"
    },
    {
     "name": "stdout",
     "output_type": "stream",
     "text": [
      "Generated 2D points:\n",
      "Blue Points:\n",
      "[[0.82827454 0.38613586]\n",
      " [0.50587785 0.28857906]\n",
      " [0.10364298 0.5102014 ]\n",
      " [0.41966747 0.10392743]\n",
      " [0.61656512 0.80559916]\n",
      " [0.71303132 0.0910185 ]\n",
      " [0.03569269 0.87071137]\n",
      " [0.90999611 0.41742996]\n",
      " [0.56292122 0.88763985]\n",
      " [0.21645067 0.91680773]]\n",
      "\n",
      "Red Points:\n",
      "[[0.03495399 0.3696864 ]\n",
      " [0.16473371 0.34263002]\n",
      " [0.44107022 0.00246567]\n",
      " [0.3013898  0.98784253]\n",
      " [0.8569788  0.47219052]\n",
      " [0.0273025  0.38651531]\n",
      " [0.88344666 0.59812291]\n",
      " [0.99176363 0.15013918]\n",
      " [0.76574249 0.80469642]\n",
      " [0.07450523 0.56647047]]\n"
     ]
    }
   ],
   "source": [
    "import numpy as np\n",
    "import matplotlib.pyplot as plt\n",
    "\n",
    "# Number of points\n",
    "num_points = 10\n",
    "\n",
    "# Generate random 2D points\n",
    "points = np.random.rand(num_points, 2)  # Generates num_points points in 2D space\n",
    "\n",
    "# Plot the points\n",
    "plt.scatter(points[:, 0], points[:, 1])\n",
    "plt.title('Random 2D Points')\n",
    "plt.xlabel('X-axis')\n",
    "plt.ylabel('Y-axis')\n",
    "plt.grid(True)\n",
    "plt.show()\n",
    "\n",
    "# Print the points\n",
    "print(\"Generated 2D points:\")\n",
    "print(points)\n",
    "\n",
    "import numpy as np\n",
    "import matplotlib.pyplot as plt\n",
    "\n",
    "# Number of points\n",
    "num_points = 10\n",
    "\n",
    "# Generate random 2D points\n",
    "points = np.random.rand(num_points, 2)  # Generates num_points points in 2D space\n",
    "\n",
    "# Plot the blue points\n",
    "plt.scatter(points[:, 0], points[:, 1], color='blue', label='Blue Points')\n",
    "\n",
    "# Generate additional random 2D points (red points)\n",
    "additional_points = np.random.rand(num_points, 2)\n",
    "\n",
    "# Plot the red points\n",
    "plt.scatter(additional_points[:, 0], additional_points[:, 1], color='red', label='Red Points')\n",
    "\n",
    "plt.title('Random 2D Points')\n",
    "plt.xlabel('X-axis')\n",
    "plt.ylabel('Y-axis')\n",
    "plt.legend()  # Show legend\n",
    "plt.grid(True)\n",
    "plt.show()\n",
    "\n",
    "# Print the points\n",
    "print(\"Generated 2D points:\")\n",
    "print(\"Blue Points:\")\n",
    "print(points)\n",
    "print(\"\\nRed Points:\")\n",
    "print(additional_points)\n",
    "\n"
   ]
  },
  {
   "cell_type": "code",
   "execution_count": 216,
   "metadata": {},
   "outputs": [
    {
     "data": {
      "image/png": "[encoded data removed]",
      "text/plain": [
       "<Figure size 640x480 with 1 Axes>"
      ]
     },
     "metadata": {},
     "output_type": "display_data"
    },
    {
     "name": "stdout",
     "output_type": "stream",
     "text": [
      "Generated 2D points with colors:\n",
      "[['0.8523531059127428' '0.01419218096947994' 'blue']\n",
      " ['0.009168517120776376' '0.12995354605893894' 'blue']\n",
      " ['0.2814287242621475' '0.10389156390192678' 'blue']\n",
      " ['0.8264370364414235' '0.1384767864904234' 'blue']\n",
      " ['0.43084157695999703' '0.20603712240026395' 'blue']\n",
      " ['0.6549368797112283' '0.8347855761479192' 'blue']\n",
      " ['0.8851276932051155' '0.07002643646684958' 'blue']\n",
      " ['0.8059530484329812' '0.5198784355133139' 'blue']\n",
      " ['0.08612963122921402' '0.12761144641821587' 'blue']\n",
      " ['0.09647700243882251' '0.12349880383302914' 'blue']\n",
      " ['0.40888421687861' '0.5847065150388638' 'red']\n",
      " ['0.37505318544210975' '0.9495538816807471' 'red']\n",
      " ['0.4817125362918653' '0.6871370485556662' 'red']\n",
      " ['0.1556787407065474' '0.33056333136436933' 'red']\n",
      " ['0.548295802733759' '0.33101728263565533' 'red']\n",
      " ['0.16072599043655023' '0.15461567852640123' 'red']\n",
      " ['0.03735696505320851' '0.08252148958130512' 'red']\n",
      " ['0.5598793087299883' '0.05112170567025964' 'red']\n",
      " ['0.3553219701600563' '0.7536202317465904' 'red']\n",
      " ['0.17785822850593758' '0.6176540940124541' 'red']]\n"
     ]
    }
   ],
   "source": [
    "import numpy as np\n",
    "import matplotlib.pyplot as plt\n",
    "\n",
    "# Number of points\n",
    "num_points = 10\n",
    "\n",
    "# Generate random 2D points\n",
    "points = np.random.rand(num_points, 2)  # Generates num_points points in 2D space\n",
    "\n",
    "# Generate additional random 2D points (red points)\n",
    "additional_points = np.random.rand(num_points, 2)\n",
    "\n",
    "# Combine all points with their respective colors\n",
    "# For blue points, 'blue' is used as the color, and for red points, 'red' is used\n",
    "points_with_color = np.vstack((np.hstack((points, np.full((num_points, 1), 'blue'))),\n",
    "                               np.hstack((additional_points, np.full((num_points, 1), 'red')))))\n",
    "\n",
    "# Plot the points\n",
    "plt.scatter(points[:, 0], points[:, 1], color='blue', label='Blue Points')\n",
    "plt.scatter(additional_points[:, 0], additional_points[:, 1], color='red', label='Red Points')\n",
    "\n",
    "plt.title('Random 2D Points')\n",
    "plt.xlabel('X-axis')\n",
    "plt.ylabel('Y-axis')\n",
    "plt.legend()  # Show legend\n",
    "plt.grid(True)\n",
    "plt.show()\n",
    "\n",
    "# Print the points with color\n",
    "print(\"Generated 2D points with colors:\")\n",
    "print(points_with_color)\n"
   ]
  },
  {
   "cell_type": "code",
   "execution_count": 217,
   "metadata": {},
   "outputs": [],
   "source": [
    "# show(points_with_color)\n",
    "\n"
   ]
  },
  {
   "cell_type": "code",
   "execution_count": 218,
   "metadata": {},
   "outputs": [
    {
     "name": "stdout",
     "output_type": "stream",
     "text": [
      "k -> 5. \n",
      "sorted_distances -> [0.005953048432981167, 0.026437036441423478, 0.05235310591274278, 0.08512769320511548, 0.14506312028877177, 0.2401206912700118, 0.25170419726624105, 0.31828746370813477, 0.369158423040003, 0.39111578312139006, 0.4249468145578903, 0.44467802983994376, 0.5185712757378526, 0.6221417714940625, 0.6392740095634498, 0.6443212592934526, 0.7035229975611775, 0.713870368770786, 0.7626430349467915, 0.7908314828792237]\n",
      "distance_data -> {0.05235310591274278: [{...}], 0.7908314828792237: [{...}], 0.5185712757378526: [{...}], 0.026437036441423478: [{...}], 0.369158423040003: [{...}], 0.14506312028877177: [{...}], 0.08512769320511548: [{...}], 0.005953048432981167: [{...}], 0.713870368770786: [{...}], 0.7035229975611775: [{...}], 0.39111578312139006: [{...}], 0.4249468145578903: [{...}], 0.31828746370813477: [{...}], 0.6443212592934526: [{...}], 0.25170419726624105: [{...}], 0.6392740095634498: [{...}], 0.7626430349467915: [{...}], 0.2401206912700118: [{...}], 0.44467802983994376: [{...}], 0.6221417714940625: [{...}]}\n",
      " closest neighbors: [{0.05235310591274278: [{...}], 0.7908314828792237: [{...}], 0.5185712757378526: [{...}], 0.026437036441423478: [{...}], 0.369158423040003: [{...}], 0.14506312028877177: [{...}], 0.08512769320511548: [{...}], 0.005953048432981167: [...], 0.713870368770786: [{...}], 0.7035229975611775: [{...}], 0.39111578312139006: [{...}], 0.4249468145578903: [{...}], 0.31828746370813477: [{...}], 0.6443212592934526: [{...}], 0.25170419726624105: [{...}], 0.6392740095634498: [{...}], 0.7626430349467915: [{...}], 0.2401206912700118: [{...}], 0.44467802983994376: [{...}], 0.6221417714940625: [{...}]}]\n",
      "closest points: None\n"
     ]
    },
    {
     "ename": "TypeError",
     "evalue": "'NoneType' object is not iterable",
     "output_type": "error",
     "traceback": [
      "\u001b[1;31m---------------------------------------------------------------------------\u001b[0m",
      "\u001b[1;31mTypeError\u001b[0m                                 Traceback (most recent call last)",
      "Cell \u001b[1;32mIn[218], line 13\u001b[0m\n\u001b[0;32m     11\u001b[0m knn \u001b[38;5;241m=\u001b[39m KNN_classifier(k\u001b[38;5;241m=\u001b[39m\u001b[38;5;241m5\u001b[39m)\n\u001b[0;32m     12\u001b[0m knn\u001b[38;5;241m.\u001b[39mfeed_data(matrix)\n\u001b[1;32m---> 13\u001b[0m \u001b[43mknn\u001b[49m\u001b[38;5;241;43m.\u001b[39;49m\u001b[43mpredict\u001b[49m\u001b[43m(\u001b[49m\u001b[43m[\u001b[49m\u001b[38;5;241;43m0.8\u001b[39;49m\u001b[43m,\u001b[49m\u001b[43m \u001b[49m\u001b[38;5;241;43m0.1\u001b[39;49m\u001b[43m]\u001b[49m\u001b[43m)\u001b[49m\n",
      "Cell \u001b[1;32mIn[213], line 54\u001b[0m, in \u001b[0;36mKNN_classifier.predict\u001b[1;34m(self, pred_point)\u001b[0m\n\u001b[0;32m     52\u001b[0m class_proportion_dict: Dict[Iterable[Union[\u001b[38;5;28mfloat\u001b[39m, \u001b[38;5;28mint\u001b[39m, \u001b[38;5;28mstr\u001b[39m]], \u001b[38;5;28mfloat\u001b[39m] \u001b[38;5;241m=\u001b[39m {}\n\u001b[0;32m     53\u001b[0m \u001b[38;5;28mprint\u001b[39m(\u001b[38;5;124mf\u001b[39m\u001b[38;5;124m\"\u001b[39m\u001b[38;5;124mclosest points: \u001b[39m\u001b[38;5;132;01m{\u001b[39;00mclosest_points\u001b[38;5;132;01m}\u001b[39;00m\u001b[38;5;124m\"\u001b[39m)\n\u001b[1;32m---> 54\u001b[0m \u001b[38;5;28;01mfor\u001b[39;00m neighbor \u001b[38;5;129;01min\u001b[39;00m closest_points:\n\u001b[0;32m     55\u001b[0m     \u001b[38;5;28;01mif\u001b[39;00m neighbor[\u001b[38;5;241m-\u001b[39m\u001b[38;5;241m1\u001b[39m] \u001b[38;5;129;01mnot\u001b[39;00m \u001b[38;5;129;01min\u001b[39;00m class_proportion_dict:\n\u001b[0;32m     56\u001b[0m         class_proportion_dict[neighbor[\u001b[38;5;241m-\u001b[39m\u001b[38;5;241m1\u001b[39m]] \u001b[38;5;241m=\u001b[39m \u001b[38;5;241m1.0\u001b[39m\n",
      "\u001b[1;31mTypeError\u001b[0m: 'NoneType' object is not iterable"
     ]
    }
   ],
   "source": [
    "matrix = []\n",
    "for line in points_with_color:\n",
    "    new_line = []\n",
    "    for thing in line:\n",
    "        if thing == line[0] or thing == line[1]:\n",
    "            new_line.append((float(thing)))\n",
    "        else:\n",
    "            new_line.append(thing)\n",
    "    matrix.append(new_line)\n",
    "\n",
    "knn = KNN_classifier(k=5)\n",
    "knn.feed_data(matrix)\n",
    "knn.predict([0.8, 0.1])\n",
    "\n",
    "\n"
   ]
  }
 ],
 "metadata": {
  "kernelspec": {
   "display_name": "new_environment",
   "language": "python",
   "name": "python3"
  },
  "language_info": {
   "codemirror_mode": {
    "name": "ipython",
    "version": 3
   },
   "file_extension": ".py",
   "mimetype": "text/x-python",
   "name": "python",
   "nbconvert_exporter": "python",
   "pygments_lexer": "ipython3",
   "version": "3.11.4"
  }
 },
 "nbformat": 4,
 "nbformat_minor": 2
}
