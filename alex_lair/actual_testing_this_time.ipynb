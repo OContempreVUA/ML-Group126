{
 "cells": [
  {
   "cell_type": "code",
   "execution_count": 2,
   "metadata": {},
   "outputs": [],
   "source": [
    "import pandas as pd\n",
    "import numpy as np\n",
    "import sympy as sym\n",
    "from IPython.display import display, Math\n",
    "import sys\n",
    "from knn_algorithm import KNN_classifier\n",
    "from custom_knn_algorithm import Custom_KNN_Classifier\n",
    "import os\n",
    "from typing import List\n",
    "sym.init_printing()"
   ]
  },
  {
   "cell_type": "code",
   "execution_count": 4,
   "metadata": {},
   "outputs": [
    {
     "data": {
      "text/html": [
       "<div>\n",
       "<style scoped>\n",
       "    .dataframe tbody tr th:only-of-type {\n",
       "        vertical-align: middle;\n",
       "    }\n",
       "\n",
       "    .dataframe tbody tr th {\n",
       "        vertical-align: top;\n",
       "    }\n",
       "\n",
       "    .dataframe thead th {\n",
       "        text-align: right;\n",
       "    }\n",
       "</style>\n",
       "<table border=\"1\" class=\"dataframe\">\n",
       "  <thead>\n",
       "    <tr style=\"text-align: right;\">\n",
       "      <th></th>\n",
       "      <th>user_id</th>\n",
       "      <th>country</th>\n",
       "      <th>sex</th>\n",
       "      <th>height</th>\n",
       "      <th>weight</th>\n",
       "      <th>age</th>\n",
       "      <th>years_cl</th>\n",
       "      <th>date_first</th>\n",
       "      <th>date_last</th>\n",
       "      <th>grades_count</th>\n",
       "      <th>grades_first</th>\n",
       "      <th>grades_last</th>\n",
       "      <th>grades_max</th>\n",
       "      <th>grades_mean</th>\n",
       "      <th>year_first</th>\n",
       "      <th>year_last</th>\n",
       "    </tr>\n",
       "  </thead>\n",
       "  <tbody>\n",
       "  </tbody>\n",
       "</table>\n",
       "</div>"
      ],
      "text/plain": [
       "Empty DataFrame\n",
       "Columns: [user_id, country, sex, height, weight, age, years_cl, date_first, date_last, grades_count, grades_first, grades_last, grades_max, grades_mean, year_first, year_last]\n",
       "Index: []"
      ]
     },
     "execution_count": 4,
     "metadata": {},
     "output_type": "execute_result"
    }
   ],
   "source": [
    "climb = pd.read_csv(\"../datasets/climber_df.csv\")\n",
    "climb.head()\n",
    "\n",
    "empty = climb.loc[climb[\"sex\"] == np.NaN]\n",
    "empty.head()"
   ]
  },
  {
   "cell_type": "code",
   "execution_count": 23,
   "metadata": {},
   "outputs": [
    {
     "data": {
      "text/html": [
       "<div>\n",
       "<style scoped>\n",
       "    .dataframe tbody tr th:only-of-type {\n",
       "        vertical-align: middle;\n",
       "    }\n",
       "\n",
       "    .dataframe tbody tr th {\n",
       "        vertical-align: top;\n",
       "    }\n",
       "\n",
       "    .dataframe thead th {\n",
       "        text-align: right;\n",
       "    }\n",
       "</style>\n",
       "<table border=\"1\" class=\"dataframe\">\n",
       "  <thead>\n",
       "    <tr style=\"text-align: right;\">\n",
       "      <th></th>\n",
       "      <th>height</th>\n",
       "      <th>weight</th>\n",
       "    </tr>\n",
       "  </thead>\n",
       "  <tbody>\n",
       "    <tr>\n",
       "      <th>0</th>\n",
       "      <td>177</td>\n",
       "      <td>73</td>\n",
       "    </tr>\n",
       "  </tbody>\n",
       "</table>\n",
       "</div>"
      ],
      "text/plain": [
       "   height  weight\n",
       "0     177      73"
      ]
     },
     "execution_count": 23,
     "metadata": {},
     "output_type": "execute_result"
    }
   ],
   "source": [
    "features= climb[[\"height\", \"weight\"]]\n",
    "labels = climb[\"sex\"]\n",
    "features[:1]"
   ]
  },
  {
   "cell_type": "code",
   "execution_count": 13,
   "metadata": {},
   "outputs": [
    {
     "data": {
      "text/plain": [
       "7307    0\n",
       "6041    0\n",
       "157     0\n",
       "6973    0\n",
       "4467    0\n",
       "       ..\n",
       "5734    1\n",
       "5191    0\n",
       "5390    0\n",
       "860     0\n",
       "7270    0\n",
       "Name: sex, Length: 8741, dtype: int64"
      ]
     },
     "execution_count": 13,
     "metadata": {},
     "output_type": "execute_result"
    }
   ],
   "source": [
    "from sklearn.model_selection import train_test_split\n",
    "\n",
    "# Assuming X is your feature matrix and y is your target vector\n",
    "# X_train, X_test, y_train, y_test will contain your training and testing data\n",
    "X_train, X_test, y_train, y_test = train_test_split(features, labels, test_size=0.2, random_state=42)\n"
   ]
  },
  {
   "cell_type": "code",
   "execution_count": 42,
   "metadata": {},
   "outputs": [
    {
     "name": "stdout",
     "output_type": "stream",
     "text": [
      "We have 1976 correct predictions and 210 incorrect predictions.\n",
      "We have an accuracy of 0.90393\n"
     ]
    }
   ],
   "source": [
    "train = pd.concat((X_train, y_train), axis=1)\n",
    "knn = KNN_classifier(200)\n",
    "knn.feed_data(train.values)\n",
    "\n",
    "results: List[int] = []\n",
    "\n",
    "for instance in X_test.values:\n",
    "    prediction = knn.predict(instance)\n",
    "    results.append(prediction)\n",
    "    \n",
    "correct: int = 0\n",
    "incorrect: int = 0\n",
    "\n",
    "compared_results = zip(results, y_test.values)\n",
    "\n",
    "for predicted, true in compared_results:\n",
    "    if predicted == true:\n",
    "        correct +=1\n",
    "    else:\n",
    "        incorrect +=1\n",
    "        \n",
    "print(f\"We have {correct} correct predictions and {incorrect} incorrect predictions.\\nWe have an accuracy of {round(correct/(correct+incorrect), 5)}\")\n"
   ]
  },
  {
   "cell_type": "code",
   "execution_count": 43,
   "metadata": {},
   "outputs": [
    {
     "name": "stdout",
     "output_type": "stream",
     "text": [
      "We have 2023 correct predictions and 163 incorrect predictions.\n",
      "We have an accuracy of 0.92543\n"
     ]
    }
   ],
   "source": [
    "custom = Custom_KNN_Classifier(k=50)\n",
    "custom.feed_data(train.values)\n",
    "\n",
    "results = []\n",
    "\n",
    "for instance in X_test.values:\n",
    "    prediction = custom.predict(instance)\n",
    "    results.append(prediction)\n",
    "correct: int = 0\n",
    "incorrect: int = 0\n",
    "\n",
    "compared_results = zip(results, y_test.values)\n",
    "\n",
    "for predicted, true in compared_results:\n",
    "    if predicted == true:\n",
    "        correct +=1\n",
    "    else:\n",
    "        incorrect +=1\n",
    "        \n",
    "print(f\"We have {correct} correct predictions and {incorrect} incorrect predictions.\\nWe have an accuracy of {round(correct/(correct+incorrect), 5)}\")\n",
    "    "
   ]
  },
  {
   "cell_type": "code",
   "execution_count": 44,
   "metadata": {},
   "outputs": [
    {
     "name": "stdout",
     "output_type": "stream",
     "text": [
      "We have 30 correct predictions and 0 incorrect predictions.\n",
      "We have an accuracy of 1.0\n"
     ]
    }
   ],
   "source": [
    "iris = pd.read_csv(\"/home/alex/Documents/GitHub/ML-Group126/datasets/iris dataset.csv\")\n",
    "\n",
    "new_knn = Custom_KNN_Classifier(15)\n",
    "X_train, X_test, y_train, y_test = train_test_split(iris[[\"sep_len\", \"sep_wid\", \"pet_len\", \"pet_wid\"]], iris[\"class\"], test_size=0.2, random_state=42)\n",
    "\n",
    "train = pd.concat((X_train, y_train), axis = 1)\n",
    "new_knn.feed_data(data=train.values)\n",
    "\n",
    "predictions: list = []\n",
    "\n",
    "for instance in X_test.values:\n",
    "    prediction = new_knn.predict(instance)\n",
    "    predictions.append(prediction)\n",
    "    \n",
    "    \n",
    "stuff = zip(predictions, y_test.values)\n",
    "\n",
    "right: int = 0\n",
    "wrong: int = 0\n",
    "for x in stuff:\n",
    "    if x[0] == x[1]:\n",
    "        right +=1\n",
    "    else:\n",
    "        wrong +=1\n",
    "\n",
    "\n",
    "print(f\"We have {right} correct predictions and {wrong} incorrect predictions.\\nWe have an accuracy of {round(right/(right+wrong), 5)}\")       \n",
    "\n",
    "\n"
   ]
  }
 ],
 "metadata": {
  "kernelspec": {
   "display_name": "myenv",
   "language": "python",
   "name": "python3"
  },
  "language_info": {
   "codemirror_mode": {
    "name": "ipython",
    "version": 3
   },
   "file_extension": ".py",
   "mimetype": "text/x-python",
   "name": "python",
   "nbconvert_exporter": "python",
   "pygments_lexer": "ipython3",
   "version": "3.9.13"
  }
 },
 "nbformat": 4,
 "nbformat_minor": 2
}
