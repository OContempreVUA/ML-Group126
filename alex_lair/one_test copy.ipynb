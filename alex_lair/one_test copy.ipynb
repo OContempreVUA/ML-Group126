{
 "cells": [
  {
   "cell_type": "code",
   "execution_count": 62,
   "metadata": {},
   "outputs": [],
   "source": [
    "import numpy as np\n",
    "import sympy as sym\n",
    "import pandas as pd\n",
    "from IPython.display import display, Math\n",
    "from typing import Iterable, List, Dict, Tuple, Union, Optional\n",
    "import math\n",
    "sym.init_printing()"
   ]
  },
  {
   "cell_type": "code",
   "execution_count": 63,
   "metadata": {},
   "outputs": [],
   "source": [
    "def euclidian_distance2(feature_set_data: Iterable[Union[int, float]], feature_set_prediction: Iterable[Union[int, float]]) -> float:\n",
    "    \"\"\"\n",
    "    param feature_set_data: should contain an iterable datatype with the features a point in the training data has.\n",
    "    param feature_set_prediction: should contain an iterable datatype with the features point from which we want to predict the class.\n",
    "    It doesn't really mattter if you swap the two tho.\n",
    "    \"\"\"\n",
    "\n",
    "    # set up some basic thingies\n",
    "    distance: float = 0\n",
    "\n",
    "    # put the different values for the same feature together in a tuple. Then store those tuples in a list\n",
    "    zipped = list(zip(feature_set_data, feature_set_prediction))\n",
    "    # here we add the squared difference between the features\n",
    "    for feature in zipped:\n",
    "        distance+= (float(feature[0])-feature[1])**2\n",
    "    \n",
    "    #return the square root of this difference\n",
    "    return math.sqrt(distance)\n",
    "\n"
   ]
  },
  {
   "cell_type": "code",
   "execution_count": 64,
   "metadata": {},
   "outputs": [
    {
     "name": "stdout",
     "output_type": "stream",
     "text": [
      "[(1, 3), (2, 4)]\n",
      "(1, 3)\n",
      "(2, 4)\n"
     ]
    }
   ],
   "source": [
    "test1 = [1,2]\n",
    "test= [3,4]\n",
    "x= list(zip(test1, test))\n",
    "print(x)\n",
    "\n",
    "for z in x:\n",
    "    print(z)"
   ]
  },
  {
   "cell_type": "code",
   "execution_count": 65,
   "metadata": {},
   "outputs": [],
   "source": [
    "class KNN_classifier:\n",
    "    def __init__(self, k: int = 5):\n",
    "        \"\"\"Sets up the KNN classifier. \n",
    "        It requires the user to select a value for k, or go with the default value of 5.\"\"\"\n",
    "        self.k = 5\n",
    "        self.data = None\n",
    "\n",
    "    def feed_data(self, data: np.ndarray) -> None:\n",
    "        \"\"\"Takes in a iterable which contains nested interables.\n",
    "        Each nested iterable stands for a row/instance in the dataset.\n",
    "        And each (numerical) value stands for the value of a feature for that given instance.\n",
    "        This method requires you to insert the data as a numpy array.\n",
    "\n",
    "        !! THE LAST COLUMN MUST BE THE LABEL SET !!\n",
    "        \"\"\"\n",
    "\n",
    "        self.data = data\n",
    "        return None\n",
    "\n",
    "    def add_row(self, row: np.ndarray) -> None:\n",
    "        \"\"\"allows user to add another row of data\"\"\"\n",
    "        if not self.data:\n",
    "            self.data=np.array(row)\n",
    "        else:\n",
    "            self.data.vstack(row)\n",
    "\n",
    "        return None\n",
    "    \n",
    "    def predict(self, pred_point: Iterable[Union[int, float]]) -> str:\n",
    "        \"\"\"Here the class uses the KNN algorithm to predict whether class a particular point belongs to\"\"\"\n",
    "\n",
    "        distances: Dict[float, Iterable[Union[float, int, str]]] = {}\n",
    "\n",
    "        # here we go over each instance in the dataset \n",
    "        for instance in self.data:\n",
    "\n",
    "            # and calculate the distance\n",
    "            distance = euclidian_distance2(feature_set_data=instance, feature_set_prediction=pred_point)\n",
    "\n",
    "            distances[distance] = instance\n",
    "\n",
    "\n",
    "        ############---------WORKS---------############\n",
    "        sorted_distances = sorted(list(distances.keys()))\n",
    "        closest_points: List[Iterable[Union[float, int, str]]] = []\n",
    "\n",
    "        index: int = 0\n",
    "        while len(closest_points) != self.k:\n",
    "            smallest_distance = sorted_distances[index]\n",
    "            closest_points.append(distances[smallest_distance])\n",
    "            index+=1\n",
    "            \n",
    "        # now we count the amount of neighbors each class has\n",
    "        class_proportion_dict: Dict[Iterable[Union[float, int, str]], float] = {}\n",
    "        for neighbor in closest_points:\n",
    "            if neighbor[-1] not in class_proportion_dict:\n",
    "                class_proportion_dict[neighbor[-1]] = 1.0\n",
    "            else:\n",
    "                class_proportion_dict[neighbor[-1]] += 1\n",
    "\n",
    "        # and we end with returning the class which has the highest tally\n",
    "        highest_tally: int = 0\n",
    "        highest_class: str = None\n",
    "\n",
    "        for c in class_proportion_dict:\n",
    "            if class_proportion_dict[c] > highest_tally:\n",
    "                highest_tally = class_proportion_dict[c]\n",
    "                highest_class = c\n",
    "            \n",
    "            else:\n",
    "                continue\n",
    "        \n",
    "        return highest_class"
   ]
  },
  {
   "cell_type": "code",
   "execution_count": 66,
   "metadata": {},
   "outputs": [
    {
     "data": {
      "image/png": "[encoded data removed]",
      "text/latex": [
       "$\\displaystyle 5.8309518948453$"
      ],
      "text/plain": [
       "5.830951894845301"
      ]
     },
     "execution_count": 66,
     "metadata": {},
     "output_type": "execute_result"
    }
   ],
   "source": [
    "euclidian_distance2(feature_set_data=[-1,1, \"red\"], feature_set_prediction=[-4, 6])"
   ]
  },
  {
   "cell_type": "code",
   "execution_count": 67,
   "metadata": {},
   "outputs": [
    {
     "data": {
      "image/png": "[encoded data removed]",
      "text/latex": [
       "$\\displaystyle \\sqrt{34}$"
      ],
      "text/plain": [
       "√34"
      ]
     },
     "metadata": {},
     "output_type": "display_data"
    },
    {
     "name": "stdout",
     "output_type": "stream",
     "text": [
      "5.830951894845301\n"
     ]
    },
    {
     "data": {
      "image/png": "[encoded data removed]",
      "text/latex": [
       "$\\displaystyle \\sqrt{\\left(a - b\\right)^{2} + \\left(c - d\\right)^{2}}$"
      ],
      "text/plain": [
       "   _____________________\n",
       "  ╱        2          2 \n",
       "╲╱  (a - b)  + (c - d)  "
      ]
     },
     "metadata": {},
     "output_type": "display_data"
    }
   ],
   "source": [
    "a,b,c,d= sym.symbols(\"a,b,c,d\")\n",
    "eq = sym.sympify(\"sqrt((a - b)**2 + (c-d)**2)\")\n",
    "\n",
    "display(eq.subs({a:-1, b:-4, c: 1, d:6}))\n",
    "\n",
    "print(math.sqrt(34))\n",
    "\n",
    "display(eq)\n",
    "\n"
   ]
  },
  {
   "cell_type": "code",
   "execution_count": 68,
   "metadata": {},
   "outputs": [
    {
     "data": {
      "image/png": "[encoded data removed]",
      "text/plain": [
       "<Figure size 640x480 with 1 Axes>"
      ]
     },
     "metadata": {},
     "output_type": "display_data"
    },
    {
     "name": "stdout",
     "output_type": "stream",
     "text": [
      "Generated 2D points:\n",
      "[[0.63550376 0.09081753]\n",
      " [0.19315046 0.48592144]\n",
      " [0.74382725 0.84140099]\n",
      " [0.57126862 0.28590706]\n",
      " [0.19420286 0.76502665]\n",
      " [0.49022178 0.09877787]\n",
      " [0.47775842 0.1874677 ]\n",
      " [0.32688893 0.20739296]\n",
      " [0.70705181 0.77979917]\n",
      " [0.61922262 0.74571971]]\n"
     ]
    },
    {
     "data": {
      "image/png": "[encoded data removed]",
      "text/plain": [
       "<Figure size 640x480 with 1 Axes>"
      ]
     },
     "metadata": {},
     "output_type": "display_data"
    },
    {
     "name": "stdout",
     "output_type": "stream",
     "text": [
      "Generated 2D points:\n",
      "Blue Points:\n",
      "[[0.02770056 0.0386159 ]\n",
      " [0.68890193 0.72962662]\n",
      " [0.24279202 0.74121178]\n",
      " [0.99043428 0.12124594]\n",
      " [0.41432316 0.57271482]\n",
      " [0.27810667 0.87057413]\n",
      " [0.06531221 0.36719711]\n",
      " [0.26868938 0.07528001]\n",
      " [0.10470201 0.8390228 ]\n",
      " [0.99505694 0.64221511]]\n",
      "\n",
      "Red Points:\n",
      "[[0.21593631 0.90549629]\n",
      " [0.51619475 0.75307374]\n",
      " [0.26156236 0.93159167]\n",
      " [0.5628983  0.89417426]\n",
      " [0.33147078 0.70168394]\n",
      " [0.79704387 0.84957651]\n",
      " [0.07260498 0.8385533 ]\n",
      " [0.06850539 0.1677686 ]\n",
      " [0.9201316  0.20162394]\n",
      " [0.50246331 0.92964025]]\n"
     ]
    }
   ],
   "source": [
    "import numpy as np\n",
    "import matplotlib.pyplot as plt\n",
    "\n",
    "# Number of points\n",
    "num_points = 10\n",
    "\n",
    "# Generate random 2D points\n",
    "points = np.random.rand(num_points, 2)  # Generates num_points points in 2D space\n",
    "\n",
    "# Plot the points\n",
    "plt.scatter(points[:, 0], points[:, 1])\n",
    "plt.title('Random 2D Points')\n",
    "plt.xlabel('X-axis')\n",
    "plt.ylabel('Y-axis')\n",
    "plt.grid(True)\n",
    "plt.show()\n",
    "\n",
    "# Print the points\n",
    "print(\"Generated 2D points:\")\n",
    "print(points)\n",
    "\n",
    "import numpy as np\n",
    "import matplotlib.pyplot as plt\n",
    "\n",
    "# Number of points\n",
    "num_points = 10\n",
    "\n",
    "# Generate random 2D points\n",
    "points = np.random.rand(num_points, 2)  # Generates num_points points in 2D space\n",
    "\n",
    "# Plot the blue points\n",
    "plt.scatter(points[:, 0], points[:, 1], color='blue', label='Blue Points')\n",
    "\n",
    "# Generate additional random 2D points (red points)\n",
    "additional_points = np.random.rand(num_points, 2)\n",
    "\n",
    "# Plot the red points\n",
    "plt.scatter(additional_points[:, 0], additional_points[:, 1], color='red', label='Red Points')\n",
    "\n",
    "plt.title('Random 2D Points')\n",
    "plt.xlabel('X-axis')\n",
    "plt.ylabel('Y-axis')\n",
    "plt.legend()  # Show legend\n",
    "plt.grid(True)\n",
    "plt.show()\n",
    "\n",
    "# Print the points\n",
    "print(\"Generated 2D points:\")\n",
    "print(\"Blue Points:\")\n",
    "print(points)\n",
    "print(\"\\nRed Points:\")\n",
    "print(additional_points)\n",
    "\n"
   ]
  },
  {
   "cell_type": "code",
   "execution_count": 69,
   "metadata": {},
   "outputs": [
    {
     "data": {
      "image/png": "[encoded data removed]",
      "text/plain": [
       "<Figure size 640x480 with 1 Axes>"
      ]
     },
     "metadata": {},
     "output_type": "display_data"
    },
    {
     "name": "stdout",
     "output_type": "stream",
     "text": [
      "Generated 2D points with colors:\n",
      "[['0.0029892432805331826' '0.2838442421541201' 'blue']\n",
      " ['0.6616257439809606' '0.15898065543574247' 'blue']\n",
      " ['0.9886662901298886' '0.3594145222923826' 'blue']\n",
      " ['0.026622559460003137' '0.2450006636925428' 'blue']\n",
      " ['0.06730631774533413' '0.7264374224298682' 'blue']\n",
      " ['0.9990366142275273' '0.4032095583981121' 'blue']\n",
      " ['0.515833144357997' '0.6298678919834004' 'blue']\n",
      " ['0.9123761472255185' '0.3917959939009905' 'blue']\n",
      " ['0.861081330762827' '0.7853996755328571' 'blue']\n",
      " ['0.45699976321417535' '0.487009740383224' 'blue']\n",
      " ['0.25320537824799416' '0.03461639823125784' 'red']\n",
      " ['0.5741110420156503' '0.7144357328238387' 'red']\n",
      " ['0.9046422497339026' '0.5516001472128723' 'red']\n",
      " ['0.9232489648507206' '0.6999337165027483' 'red']\n",
      " ['0.8841522239736376' '0.19522075069034062' 'red']\n",
      " ['0.1598391672824223' '0.7538141078597965' 'red']\n",
      " ['0.797240856379145' '0.49682606289830344' 'red']\n",
      " ['0.7738543585895375' '0.19961301515245577' 'red']\n",
      " ['0.1720791372420486' '0.9609993692394388' 'red']\n",
      " ['0.4775369594379332' '0.8657571060228614' 'red']]\n"
     ]
    }
   ],
   "source": [
    "import numpy as np\n",
    "import matplotlib.pyplot as plt\n",
    "\n",
    "# Number of points\n",
    "num_points = 10\n",
    "\n",
    "# Generate random 2D points\n",
    "points = np.random.rand(num_points, 2)  # Generates num_points points in 2D space\n",
    "\n",
    "# Generate additional random 2D points (red points)\n",
    "additional_points = np.random.rand(num_points, 2)\n",
    "\n",
    "# Combine all points with their respective colors\n",
    "# For blue points, 'blue' is used as the color, and for red points, 'red' is used\n",
    "points_with_color = np.vstack((np.hstack((points, np.full((num_points, 1), 'blue'))),\n",
    "                               np.hstack((additional_points, np.full((num_points, 1), 'red')))))\n",
    "\n",
    "# Plot the points\n",
    "plt.scatter(points[:, 0], points[:, 1], color='blue', label='Blue Points')\n",
    "plt.scatter(additional_points[:, 0], additional_points[:, 1], color='red', label='Red Points')\n",
    "\n",
    "plt.title('Random 2D Points')\n",
    "plt.xlabel('X-axis')\n",
    "plt.ylabel('Y-axis')\n",
    "plt.legend()  # Show legend\n",
    "plt.grid(True)\n",
    "plt.show()\n",
    "\n",
    "# Print the points with color\n",
    "print(\"Generated 2D points with colors:\")\n",
    "print(points_with_color)\n"
   ]
  },
  {
   "cell_type": "code",
   "execution_count": 70,
   "metadata": {},
   "outputs": [],
   "source": [
    "# show(points_with_color)\n",
    "\n"
   ]
  },
  {
   "cell_type": "code",
   "execution_count": 76,
   "metadata": {},
   "outputs": [
    {
     "data": {
      "text/plain": [
       "'blue'"
      ]
     },
     "execution_count": 76,
     "metadata": {},
     "output_type": "execute_result"
    }
   ],
   "source": [
    "matrix = []\n",
    "for line in points_with_color:\n",
    "    new_line = []\n",
    "    for thing in line:\n",
    "        if thing == line[0] or thing == line[1]:\n",
    "            new_line.append((float(thing)))\n",
    "        else:\n",
    "            new_line.append(thing)\n",
    "    matrix.append(new_line)\n",
    "\n",
    "knn = KNN_classifier(k=3)\n",
    "knn.feed_data(matrix)\n",
    "knn.predict([0.1, 0.5])\n",
    "\n",
    "\n",
    "\n",
    "\n"
   ]
  }
 ],
 "metadata": {
  "kernelspec": {
   "display_name": "new_environment",
   "language": "python",
   "name": "python3"
  },
  "language_info": {
   "codemirror_mode": {
    "name": "ipython",
    "version": 3
   },
   "file_extension": ".py",
   "mimetype": "text/x-python",
   "name": "python",
   "nbconvert_exporter": "python",
   "pygments_lexer": "ipython3",
   "version": "3.11.4"
  }
 },
 "nbformat": 4,
 "nbformat_minor": 2
}
