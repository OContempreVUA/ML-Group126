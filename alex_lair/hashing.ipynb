{
 "cells": [
  {
   "cell_type": "code",
   "execution_count": 2,
   "metadata": {},
   "outputs": [],
   "source": [
    "my_num = 1\n",
    "\n",
    "my_dict = {my_num:1, 2:2}\n",
    "\n"
   ]
  },
  {
   "cell_type": "code",
   "execution_count": 4,
   "metadata": {},
   "outputs": [
    {
     "name": "stdout",
     "output_type": "stream",
     "text": [
      "0.4\n"
     ]
    }
   ],
   "source": [
    "furthest_distance = 100\n",
    "some_distance = 60\n",
    "\n",
    "print((furthest_distance-some_distance)/furthest_distance)"
   ]
  },
  {
   "cell_type": "code",
   "execution_count": 8,
   "metadata": {},
   "outputs": [
    {
     "name": "stdout",
     "output_type": "stream",
     "text": [
      "hey\n",
      "hey\n",
      "hey\n"
     ]
    }
   ],
   "source": [
    "class class_a:\n",
    "    def __init__(self, hi = \"hi\"):\n",
    "        self.hi = hi\n",
    "    \n",
    "    def say_hi(self):\n",
    "        print(self.hi)\n",
    "        \n",
    "class class_b(class_a):\n",
    "    def __init__(self, hi):\n",
    "        super().__init__(hi=hi)\n",
    "        \n",
    "a = class_a(hi=\"hey\")\n",
    "a.say_hi()\n",
    "\n",
    "b = class_b(hi=\"hey\")\n",
    "b.say_hi()\n",
    "print(b.hi)"
   ]
  }
 ],
 "metadata": {
  "kernelspec": {
   "display_name": "base",
   "language": "python",
   "name": "python3"
  },
  "language_info": {
   "codemirror_mode": {
    "name": "ipython",
    "version": 3
   },
   "file_extension": ".py",
   "mimetype": "text/x-python",
   "name": "python",
   "nbconvert_exporter": "python",
   "pygments_lexer": "ipython3",
   "version": "3.11.7"
  }
 },
 "nbformat": 4,
 "nbformat_minor": 2
}
